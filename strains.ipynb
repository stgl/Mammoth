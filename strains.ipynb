{
 "cells": [
  {
   "cell_type": "code",
   "execution_count": 37,
   "id": "778fe211",
   "metadata": {},
   "outputs": [],
   "source": [
    "def compute_strains_3stations(lons, lats):\n",
    "\n",
    "    from numpy.linalg import inv\n",
    "    \n",
    "    xcentroid = np.mean(lons)\n",
    "    ycentroid = np.mean(lats)\n",
    "        \n",
    "    dE1 = (lons[0] - xcentroid) * 111.0 * np.cos(np.deg2rad(ycentroid));\n",
    "    dE2 = (lons[1] - xcentroid) * 111.0 * np.cos(np.deg2rad(ycentroid));\n",
    "    dE3 = (lons[2] - xcentroid) * 111.0 * np.cos(np.deg2rad(ycentroid));\n",
    "    dN1 = (lats[0] - ycentroid) * 111.0;\n",
    "    dN2 = (lats[1] - ycentroid) * 111.0;\n",
    "    dN3 = (lats[2] - ycentroid) * 111.0;\n",
    "    \n",
    "    Design_Matrix = np.array(\n",
    "            [[1, 0, dE1, dN1, 0, 0], [0, 1, 0, 0, dE1, dN1], [1, 0, dE2, dN2, 0, 0], [0, 1, 0, 0, dE2, dN2],\n",
    "             [1, 0, dE3, dN3, 0, 0], [0, 1, 0, 0, dE3, dN3]]);\n",
    "\n",
    "    # Invert to get the components of the velocity gradient tensor.\n",
    "    DMinv = inv(Design_Matrix);\n",
    "    \n",
    "    def inner_function(uxs, uys):\n",
    "        (VE1, VE2, VE3) = uxs\n",
    "        (VN1, VN2, VN3) = uys\n",
    "    \n",
    "        obs_vel = np.array([[VE1], [VN1], [VE2], [VN2], [VE3], [VN3]]);\n",
    "\n",
    "        vel_grad = np.dot(DMinv, obs_vel);  # this is the money step.\n",
    "    \n",
    "        dudx = vel_grad[2][0];\n",
    "        dudy = vel_grad[3][0];\n",
    "        dvdx = vel_grad[4][0];\n",
    "        dvdy = vel_grad[5][0];\n",
    "    \n",
    "        exx = dudx;\n",
    "        exy = (0.5 * (dvdx + dudy));\n",
    "        eyy = dvdy;\n",
    "        rot = (0.5 * (dvdx - dudy));\n",
    "        \n",
    "        return [exx, exy, eyy, rot];\n",
    "    \n",
    "    return inner_function\n"
   ]
  },
  {
   "cell_type": "code",
   "execution_count": 23,
   "id": "68ccb37d",
   "metadata": {},
   "outputs": [],
   "source": [
    "import csv\n",
    "from dateutil.parser import isoparse\n",
    "import numpy as np\n",
    "\n",
    "def read_gps_data(filename):\n",
    "    date = []\n",
    "    ux = []\n",
    "    uy = []\n",
    "    uz = []\n",
    "    sig_ux = []\n",
    "    sig_uy = []\n",
    "    sig_uz = []\n",
    "\n",
    "    with open(filename, 'r') as file:\n",
    "        reader = csv.reader(file, delimiter = ',')\n",
    "    \n",
    "        for _ in range(5):\n",
    "            next(reader)\n",
    "    \n",
    "        line = next(reader)[0]\n",
    "        import re\n",
    "        match = re.search('Latitude: ([+-]?([0-9]*[.])?[0-9]+)', line)\n",
    "        if match:\n",
    "            lat = float(match.group(1))\n",
    "        match = re.search('Longitude: ([+-]?([0-9]*[.])?[0-9]+)', line)\n",
    "        if match:\n",
    "            lon = float(match.group(1))\n",
    "        for _ in range(3):\n",
    "            next(reader)\n",
    "            \n",
    "        for row in reader:\n",
    "            date += [isoparse(row[0])]\n",
    "            ux += [float(row[1])]\n",
    "            uy += [float(row[2])]\n",
    "            uz += [float(row[3])]\n",
    "            sig_ux += [float(row[4])]\n",
    "            sig_uy += [float(row[5])]\n",
    "            sig_uz += [float(row[6])]\n",
    "    \n",
    "    date = np.array(date, dtype = np.datetime64)\n",
    "    ux = np.array(ux)\n",
    "    uy = np.array(uy)\n",
    "    uz = np.array(uz)\n",
    "    sig_ux = np.array(sig_ux)\n",
    "    sig_uy = np.array(sig_uy)\n",
    "    sig_uz = np.array(sig_uz)\n",
    "    \n",
    "    return date, ux, uy, uz, sig_ux, sig_uy, sig_uz, lat, lon"
   ]
  },
  {
   "cell_type": "code",
   "execution_count": 27,
   "id": "258e71b8",
   "metadata": {},
   "outputs": [
    {
     "name": "stderr",
     "output_type": "stream",
     "text": [
      "/Users/hilley/opt/miniconda2/envs/topoanalysis/lib/python3.6/site-packages/ipykernel_launcher.py:40: DeprecationWarning: parsing timezone aware datetimes is deprecated; this will raise an error in the future\n"
     ]
    }
   ],
   "source": [
    "date_knol, ux_knol, uy_knol, uz_knol, _, _, _, lat_knol, lon_knol = read_gps_data('data/GPS/KNOL-cwu-nam14-gpos.csv')\n",
    "date_p630, ux_p630, uy_p630, uz_p630, _, _, _, lat_p630, lon_p630 = read_gps_data('data/GPS/P630-cwu-nam14-gpos.csv')\n",
    "date_linc, ux_linc, uy_linc, uz_linc, _, _, _, lat_linc, lon_linc = read_gps_data('data/GPS/LINC-cwu-nam14-gpos.csv')\n",
    "\n",
    "_, indexes, _ = np.intersect1d(date, dates_m, assume_unique = True, return_indices = True)"
   ]
  },
  {
   "cell_type": "code",
   "execution_count": 38,
   "id": "7767946a",
   "metadata": {},
   "outputs": [],
   "source": [
    "lats = np.array([lat_knol, lat_p630, lat_linc])\n",
    "lons = np.array([lon_knol, lon_p630, lon_linc])\n",
    "\n",
    "strain_computer = compute_strains_3stations(lons, lats)"
   ]
  },
  {
   "cell_type": "code",
   "execution_count": 43,
   "id": "f44f48d1",
   "metadata": {},
   "outputs": [],
   "source": [
    "mean_normal_strain = np.zeros_like(ux_linc)\n",
    "\n",
    "for index, (ux_1, ux_2, ux_3, uy_1, uy_2, uy_3) in enumerate(zip(ux_knol, ux_p630, ux_linc, uy_knol, uy_p630, uy_linc)):\n",
    "    [exx, exy, eyy, rot] = strain_computer((ux_1, ux_2, ux_3), (uy_1, uy_2, uy_3))\n",
    "    mean_normal_strain[index] = (exx + eyy) / 2.0"
   ]
  },
  {
   "cell_type": "code",
   "execution_count": 45,
   "id": "ce6ee65e",
   "metadata": {},
   "outputs": [
    {
     "data": {
      "text/plain": [
       "array([0.14261402, 0.14296931, 0.14405144, ..., 0.        , 0.        ,\n",
       "       0.        ])"
      ]
     },
     "execution_count": 45,
     "metadata": {},
     "output_type": "execute_result"
    }
   ],
   "source": [
    "mean_normal_strain"
   ]
  },
  {
   "cell_type": "code",
   "execution_count": null,
   "id": "f9f24135",
   "metadata": {},
   "outputs": [],
   "source": []
  }
 ],
 "metadata": {
  "kernelspec": {
   "display_name": "Python 3",
   "language": "python",
   "name": "python3"
  },
  "language_info": {
   "codemirror_mode": {
    "name": "ipython",
    "version": 3
   },
   "file_extension": ".py",
   "mimetype": "text/x-python",
   "name": "python",
   "nbconvert_exporter": "python",
   "pygments_lexer": "ipython3",
   "version": "3.9.6"
  }
 },
 "nbformat": 4,
 "nbformat_minor": 5
}
