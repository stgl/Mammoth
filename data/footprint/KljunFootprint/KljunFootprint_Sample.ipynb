{
 "cells": [
  {
   "cell_type": "code",
   "execution_count": 1,
   "metadata": {},
   "outputs": [],
   "source": [
    "import pandas as pd\n",
    "import datetime\n",
    "\n",
    "filename = 'EC.xlsx'\n",
    "\n",
    "start = datetime.datetime(2016, 10, 1)\n",
    "stop = datetime.datetime(2016, 10, 4)\n",
    "\n",
    "filter_params = {'start': start,\n",
    "                 'stop': stop,\n",
    "                 'qc_co2_flux__=': 0,\n",
    "                 'u*__>=': 0.3,\n",
    "                 'co2_flux__>': 0,\n",
    "                 'co2_flux__<=': 50000}"
   ]
  },
  {
   "cell_type": "code",
   "execution_count": 2,
   "metadata": {},
   "outputs": [],
   "source": [
    "from copy import copy\n",
    "\n",
    "data = pd.read_excel(filename, header=0, skiprows=[1])\n",
    "column_names = list(copy(data.columns))\n",
    "data.index = data[data.columns[0]]\n",
    "column_names = column_names[1:]\n",
    "data = data[column_names]"
   ]
  },
  {
   "cell_type": "code",
   "execution_count": 3,
   "metadata": {},
   "outputs": [],
   "source": [
    "from eddy.footprint import calculate_and_save_filtered_footprint as calc_and_save_fp\n",
    "\n",
    "fp_data = calc_and_save_fp(data, **filter_params)"
   ]
  },
  {
   "cell_type": "code",
   "execution_count": null,
   "metadata": {},
   "outputs": [],
   "source": []
  }
 ],
 "metadata": {
  "kernelspec": {
   "display_name": "Python 3",
   "language": "python",
   "name": "python3"
  },
  "language_info": {
   "codemirror_mode": {
    "name": "ipython",
    "version": 3
   },
   "file_extension": ".py",
   "mimetype": "text/x-python",
   "name": "python",
   "nbconvert_exporter": "python",
   "pygments_lexer": "ipython3",
   "version": "3.6.10"
  }
 },
 "nbformat": 4,
 "nbformat_minor": 4
}
